{
 "cells": [
  {
   "cell_type": "code",
   "execution_count": 7,
   "id": "79a22e8d-8eec-4744-9103-880c0a014e3e",
   "metadata": {},
   "outputs": [
    {
     "data": {
      "text/html": [
       "\n",
       "        <iframe\n",
       "            width=\"100%\"\n",
       "            height=\"650\"\n",
       "            src=\"http://127.0.0.1:8060/\"\n",
       "            frameborder=\"0\"\n",
       "            allowfullscreen\n",
       "            \n",
       "        ></iframe>\n",
       "        "
      ],
      "text/plain": [
       "<IPython.lib.display.IFrame at 0x1dc86903ef0>"
      ]
     },
     "metadata": {},
     "output_type": "display_data"
    }
   ],
   "source": [
    "import dash\n",
    "from dash import dcc, html\n",
    "from dash.dependencies import Input, Output\n",
    "import pandas as pd\n",
    "\n",
    "# Load the data\n",
    "file_path = \"avocado.csv\"\n",
    "df = pd.read_csv(file_path)\n",
    "\n",
    "# Initialize the Dash app\n",
    "app = dash.Dash(__name__)\n",
    "\n",
    "# Define the layout of the app\n",
    "app.layout = html.Div([\n",
    "    html.H1(\"Avocado Price Analysis\"),\n",
    "    \n",
    "    dcc.Dropdown(\n",
    "        id='region-dropdown',\n",
    "        options=[{'label': region, 'value': region} for region in df['region'].unique()],\n",
    "        value=df['region'].unique()[0]  # Default value\n",
    "    ),\n",
    "    \n",
    "    dcc.Graph(id='price-graph'),\n",
    "])\n",
    "\n",
    "# Define callback to update graph based on selected region\n",
    "@app.callback(\n",
    "    Output('price-graph', 'figure'),\n",
    "    Input('region-dropdown', 'value')\n",
    ")\n",
    "def update_graph(selected_region):\n",
    "    filtered_data = df[df['region'] == selected_region]\n",
    "    \n",
    "    # Create a plotly figure\n",
    "    figure = {\n",
    "    'data': [{ 'x': filtered_data['Date'],'y': filtered_data['AveragePrice'], 'type': 'bar','name': selected_region}],\n",
    "    'layout': {\n",
    "        'title': f'Average Avocado Price in {selected_region}',\n",
    "        'xaxis': {'title': 'Date'},\n",
    "        'yaxis': {'title': 'Average Price'},\n",
    "    }\n",
    "}\n",
    "\n",
    "    return figure\n",
    "\n",
    "# Run the app\n",
    "if __name__ == '__main__':\n",
    "    app.run_server(debug=True, port=8060)\n"
   ]
  }
 ],
 "metadata": {
  "kernelspec": {
   "display_name": "Python 3 (ipykernel)",
   "language": "python",
   "name": "python3"
  },
  "language_info": {
   "codemirror_mode": {
    "name": "ipython",
    "version": 3
   },
   "file_extension": ".py",
   "mimetype": "text/x-python",
   "name": "python",
   "nbconvert_exporter": "python",
   "pygments_lexer": "ipython3",
   "version": "3.12.5"
  }
 },
 "nbformat": 4,
 "nbformat_minor": 5
}
